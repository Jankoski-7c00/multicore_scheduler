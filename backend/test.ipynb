{
 "cells": [
  {
   "cell_type": "code",
   "execution_count": 6,
   "metadata": {},
   "outputs": [
    {
     "ename": "ValueError",
     "evalue": "Traceback (most recent call last):\n  File \"/Users/xiangyy/tvm/src/target/target.cc\", line 580\nValueError: Target kind \"CPU\" is not defined. Target creation from string failed: CPU",
     "output_type": "error",
     "traceback": [
      "\u001b[0;31m---------------------------------------------------------------------------\u001b[0m",
      "\u001b[0;31mValueError\u001b[0m                                Traceback (most recent call last)",
      "\u001b[1;32m/Users/xiangyy/Projects/multicore_schedule/backend/test.ipynb 单元格 1\u001b[0m line \u001b[0;36m2\n\u001b[1;32m     <a href='vscode-notebook-cell:/Users/xiangyy/Projects/multicore_schedule/backend/test.ipynb#W0sZmlsZQ%3D%3D?line=21'>22</a>\u001b[0m s[C]\u001b[39m.\u001b[39mbind(by, block_y)\n\u001b[1;32m     <a href='vscode-notebook-cell:/Users/xiangyy/Projects/multicore_schedule/backend/test.ipynb#W0sZmlsZQ%3D%3D?line=22'>23</a>\u001b[0m s[C]\u001b[39m.\u001b[39mbind(ty, thread_y)\n\u001b[0;32m---> <a href='vscode-notebook-cell:/Users/xiangyy/Projects/multicore_schedule/backend/test.ipynb#W0sZmlsZQ%3D%3D?line=24'>25</a>\u001b[0m mod \u001b[39m=\u001b[39m tvm\u001b[39m.\u001b[39;49mbuild(s, [A, B, C], \u001b[39m'\u001b[39;49m\u001b[39mCPU\u001b[39;49m\u001b[39m'\u001b[39;49m)\n",
      "File \u001b[0;32m~/Library/Python/3.8/lib/python/site-packages/tvm-0.12.0-py3.8-macosx-11-universal2.egg/tvm/driver/build_module.py:269\u001b[0m, in \u001b[0;36mbuild\u001b[0;34m(inputs, args, target, target_host, runtime, name, binds)\u001b[0m\n\u001b[1;32m    263\u001b[0m \u001b[39mif\u001b[39;00m target_host \u001b[39mis\u001b[39;00m \u001b[39mnot\u001b[39;00m \u001b[39mNone\u001b[39;00m:\n\u001b[1;32m    264\u001b[0m     warnings\u001b[39m.\u001b[39mwarn(\n\u001b[1;32m    265\u001b[0m         \u001b[39m\"\u001b[39m\u001b[39mtarget_host parameter is going to be deprecated. \u001b[39m\u001b[39m\"\u001b[39m\n\u001b[1;32m    266\u001b[0m         \u001b[39m\"\u001b[39m\u001b[39mPlease pass in tvm.target.Target(target, host=target_host) instead.\u001b[39m\u001b[39m\"\u001b[39m\n\u001b[1;32m    267\u001b[0m     )\n\u001b[0;32m--> 269\u001b[0m annotated_mods, target_host \u001b[39m=\u001b[39m Target\u001b[39m.\u001b[39;49mcanon_target_map_and_host(annotated_mods, target_host)\n\u001b[1;32m    270\u001b[0m \u001b[39mif\u001b[39;00m \u001b[39mnot\u001b[39;00m target_host:\n\u001b[1;32m    271\u001b[0m     \u001b[39mfor\u001b[39;00m tar, mod \u001b[39min\u001b[39;00m annotated_mods\u001b[39m.\u001b[39mitems():\n",
      "File \u001b[0;32m~/Library/Python/3.8/lib/python/site-packages/tvm-0.12.0-py3.8-macosx-11-universal2.egg/tvm/target/target.py:345\u001b[0m, in \u001b[0;36mTarget.canon_target_map_and_host\u001b[0;34m(target_map, target_host)\u001b[0m\n\u001b[1;32m    343\u001b[0m canonical_target_host \u001b[39m=\u001b[39m \u001b[39mNone\u001b[39;00m\n\u001b[1;32m    344\u001b[0m \u001b[39mfor\u001b[39;00m tgt, mod \u001b[39min\u001b[39;00m target_map\u001b[39m.\u001b[39mitems():\n\u001b[0;32m--> 345\u001b[0m     tgt \u001b[39m=\u001b[39m Target\u001b[39m.\u001b[39;49mcanon_target(tgt)\n\u001b[1;32m    346\u001b[0m     \u001b[39massert\u001b[39;00m tgt \u001b[39mis\u001b[39;00m \u001b[39mnot\u001b[39;00m \u001b[39mNone\u001b[39;00m\n\u001b[1;32m    347\u001b[0m     \u001b[39mif\u001b[39;00m canonical_target_host \u001b[39mis\u001b[39;00m \u001b[39mNone\u001b[39;00m:\n",
      "File \u001b[0;32m~/Library/Python/3.8/lib/python/site-packages/tvm-0.12.0-py3.8-macosx-11-universal2.egg/tvm/target/target.py:263\u001b[0m, in \u001b[0;36mTarget.canon_target\u001b[0;34m(target)\u001b[0m\n\u001b[1;32m    261\u001b[0m \u001b[39mif\u001b[39;00m \u001b[39misinstance\u001b[39m(target, Target):\n\u001b[1;32m    262\u001b[0m     \u001b[39mreturn\u001b[39;00m target\n\u001b[0;32m--> 263\u001b[0m \u001b[39mreturn\u001b[39;00m Target(target)\n",
      "File \u001b[0;32m~/Library/Python/3.8/lib/python/site-packages/tvm-0.12.0-py3.8-macosx-11-universal2.egg/tvm/target/target.py:136\u001b[0m, in \u001b[0;36mTarget.__init__\u001b[0;34m(self, target, host)\u001b[0m\n\u001b[1;32m    134\u001b[0m     \u001b[39mself\u001b[39m\u001b[39m.\u001b[39m__init_handle_by_constructor__(_ffi_api\u001b[39m.\u001b[39mTarget, Target(target), Target(host))\n\u001b[1;32m    135\u001b[0m \u001b[39melse\u001b[39;00m:\n\u001b[0;32m--> 136\u001b[0m     \u001b[39mself\u001b[39;49m\u001b[39m.\u001b[39;49m__init_handle_by_constructor__(_ffi_api\u001b[39m.\u001b[39;49mTarget, target)\n",
      "File \u001b[0;32m~/Library/Python/3.8/lib/python/site-packages/tvm-0.12.0-py3.8-macosx-11-universal2.egg/tvm/_ffi/_ctypes/object.py:145\u001b[0m, in \u001b[0;36mObjectBase.__init_handle_by_constructor__\u001b[0;34m(self, fconstructor, *args)\u001b[0m\n\u001b[1;32m    142\u001b[0m \u001b[39m# assign handle first to avoid error raising\u001b[39;00m\n\u001b[1;32m    143\u001b[0m \u001b[39m# pylint: disable=not-callable\u001b[39;00m\n\u001b[1;32m    144\u001b[0m \u001b[39mself\u001b[39m\u001b[39m.\u001b[39mhandle \u001b[39m=\u001b[39m \u001b[39mNone\u001b[39;00m\n\u001b[0;32m--> 145\u001b[0m handle \u001b[39m=\u001b[39m __init_by_constructor__(fconstructor, args)\n\u001b[1;32m    146\u001b[0m \u001b[39mif\u001b[39;00m \u001b[39mnot\u001b[39;00m \u001b[39misinstance\u001b[39m(handle, ObjectHandle):\n\u001b[1;32m    147\u001b[0m     handle \u001b[39m=\u001b[39m ObjectHandle(handle)\n",
      "File \u001b[0;32m~/Library/Python/3.8/lib/python/site-packages/tvm-0.12.0-py3.8-macosx-11-universal2.egg/tvm/_ffi/_ctypes/packed_func.py:260\u001b[0m, in \u001b[0;36m__init_handle_by_constructor__\u001b[0;34m(fconstructor, args)\u001b[0m\n\u001b[1;32m    248\u001b[0m ret_tcode \u001b[39m=\u001b[39m ctypes\u001b[39m.\u001b[39mc_int()\n\u001b[1;32m    249\u001b[0m \u001b[39mif\u001b[39;00m (\n\u001b[1;32m    250\u001b[0m     _LIB\u001b[39m.\u001b[39mTVMFuncCall(\n\u001b[1;32m    251\u001b[0m         fconstructor\u001b[39m.\u001b[39mhandle,\n\u001b[0;32m   (...)\u001b[0m\n\u001b[1;32m    258\u001b[0m     \u001b[39m!=\u001b[39m \u001b[39m0\u001b[39m\n\u001b[1;32m    259\u001b[0m ):\n\u001b[0;32m--> 260\u001b[0m     \u001b[39mraise\u001b[39;00m get_last_ffi_error()\n\u001b[1;32m    261\u001b[0m _ \u001b[39m=\u001b[39m temp_args\n\u001b[1;32m    262\u001b[0m _ \u001b[39m=\u001b[39m args\n",
      "\u001b[0;31mValueError\u001b[0m: Traceback (most recent call last):\n  File \"/Users/xiangyy/tvm/src/target/target.cc\", line 580\nValueError: Target kind \"CPU\" is not defined. Target creation from string failed: CPU"
     ]
    }
   ],
   "source": [
    "import tvm\n",
    "from tvm import te\n",
    "\n",
    "N, M, L = 1024, 1024, 1024\n",
    "A = te.placeholder((N, L), name='A')\n",
    "B = te.placeholder((L, M), name='B')\n",
    "k = te.reduce_axis((0, L), 'k')\n",
    "C = te.compute((N, M), lambda i, j: te.sum(A[i, k] * B[k, j], axis=k), name='C')\n",
    "\n",
    "s = te.create_schedule(C.op)\n",
    "block_x = te.thread_axis(\"blockIdx.x\")\n",
    "thread_x = te.thread_axis(\"threadIdx.x\")\n",
    "block_y = te.thread_axis(\"blockIdx.y\")\n",
    "thread_y = te.thread_axis(\"threadIdx.y\")\n",
    "\n",
    "# 选择一个合适的块和线程块大小来分解C的计算\n",
    "bx, tx = s[C].split(C.op.axis[0], factor=32)\n",
    "by, ty = s[C].split(C.op.axis[1], factor=32)\n",
    "\n",
    "s[C].bind(bx, block_x)\n",
    "s[C].bind(tx, thread_x)\n",
    "s[C].bind(by, block_y)\n",
    "s[C].bind(ty, thread_y)\n",
    "\n",
    "mod = tvm.build(s, [A, B, C], 'cpu')\n"
   ]
  }
 ],
 "metadata": {
  "kernelspec": {
   "display_name": "Python 3",
   "language": "python",
   "name": "python3"
  },
  "language_info": {
   "codemirror_mode": {
    "name": "ipython",
    "version": 3
   },
   "file_extension": ".py",
   "mimetype": "text/x-python",
   "name": "python",
   "nbconvert_exporter": "python",
   "pygments_lexer": "ipython3",
   "version": "3.8.10"
  }
 },
 "nbformat": 4,
 "nbformat_minor": 2
}
